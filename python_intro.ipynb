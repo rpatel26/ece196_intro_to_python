{
 "cells": [
  {
   "cell_type": "markdown",
   "metadata": {},
   "source": [
    "# Variables\n",
    "* Variable name must start with a letter or the underscore character\n",
    "* Variable name cannot start with a number\n",
    "* Variable name can only contain: alphanumeric characters (A-z, 0-9) or underscores ( _ )\n",
    "* Variable names are case sensitive"
   ]
  },
  {
   "cell_type": "code",
   "execution_count": 1,
   "metadata": {},
   "outputs": [
    {
     "name": "stdout",
     "output_type": "stream",
     "text": [
      "5\n",
      "hello world\n",
      "ece196\n"
     ]
    }
   ],
   "source": [
    "x = 5\n",
    "_y = \"hello world\"\n",
    "\n",
    "print(x)\n",
    "print(_y)\n",
    "x = \"ece196\"\n",
    "print(x)"
   ]
  },
  {
   "cell_type": "markdown",
   "metadata": {},
   "source": [
    "# Comments\n",
    "* Inline comment with the pound ( # ) key\n",
    "* Multiple-line comment with triple quotes ( ‘’’ or “”” )"
   ]
  },
  {
   "cell_type": "code",
   "execution_count": 2,
   "metadata": {},
   "outputs": [
    {
     "name": "stdout",
     "output_type": "stream",
     "text": [
      "5\n",
      "hello world\n",
      "ece196\n"
     ]
    }
   ],
   "source": [
    "# This is an inline command\n",
    "x = 5\n",
    "y = \"hello world\"\n",
    "\n",
    "'''\n",
    "    This is a multi-line comment\n",
    "    It can use as many line as necessay\n",
    "'''\n",
    "print(x)\n",
    "print(y)\n",
    "\n",
    "\"\"\"\n",
    "    Multi-line comment alse used via\n",
    "    either single quotes, or double quotes\n",
    "\"\"\"\n",
    "x = \"ece196\"\n",
    "print(x)"
   ]
  },
  {
   "cell_type": "markdown",
   "metadata": {},
   "source": [
    "# Math\n",
    "* Three types of number in Python: **int**, **float**, and **complex**\n",
    "* 4 possible operations: addition ( **+** ), subtraction ( **-** ), multiplication ( ***** ), division ( **/** )\n"
   ]
  },
  {
   "cell_type": "code",
   "execution_count": 3,
   "metadata": {},
   "outputs": [
    {
     "name": "stdout",
     "output_type": "stream",
     "text": [
      "<class 'int'>\n",
      "<class 'float'>\n",
      "15.0 <class 'float'>\n",
      "(5+10j) 5.0 10.0\n"
     ]
    }
   ],
   "source": [
    "x = 5\n",
    "print(type(x))\n",
    "\n",
    "y = 10.0\n",
    "print(type(y))\n",
    "z = x + y\n",
    "print(z, type(z))\n",
    "\n",
    "z = 5 + 10j\n",
    "print(z, z.real, z.imag)"
   ]
  },
  {
   "cell_type": "markdown",
   "metadata": {},
   "source": [
    "# Conditionals\n",
    "**if** condition 1:\n",
    "\n",
    "    code goes here\n",
    "    \n",
    "**elif** condition 2:\n",
    "\n",
    "    code goes here\n",
    "\n",
    "**else:**\n",
    "\n",
    "    code goes here"
   ]
  },
  {
   "cell_type": "code",
   "execution_count": 4,
   "metadata": {},
   "outputs": [
    {
     "name": "stdout",
     "output_type": "stream",
     "text": [
      "x is greater than or equal to 10 and y is equal to 5\n"
     ]
    }
   ],
   "source": [
    "x = 10\n",
    "y = 5.0\n",
    "z = 15.0\n",
    "if x < 10:\n",
    "    print(\"x is less than 15\")\n",
    "elif x >= 10 and y == 5:\n",
    "    print(\"x is greater than or equal to 10 and y is equal to 5\")\n",
    "else:\n",
    "    print(\"else statement\")"
   ]
  },
  {
   "cell_type": "markdown",
   "metadata": {},
   "source": [
    "# List\n",
    "Refer to the following [link](https://docs.python.org/3/tutorial/datastructures.html) for all the available function. "
   ]
  },
  {
   "cell_type": "code",
   "execution_count": 5,
   "metadata": {},
   "outputs": [
    {
     "name": "stdout",
     "output_type": "stream",
     "text": [
      "['bananas', 'apples', 'tomatoes']\n",
      "after appending cookies:  ['bananas', 'apples', 'tomatoes', 'cookies']\n",
      "['bananas', 'apples', 'tomatoes']\n",
      "['bananas', 'apples', 'oranges', 'tomatoes']\n",
      "['bananas', 'gala apples', 'oranges', 'tomatoes']\n"
     ]
    }
   ],
   "source": [
    "my_grocery_list = [\"bananas\", \"apples\", \"tomatoes\"] # create a list of groceries\n",
    "print(my_grocery_list)\n",
    "\n",
    "my_grocery_list.append(\"cookies\") # add \"cookies\" at the end of the gorcery list\n",
    "print(\"after appending cookies: \", my_grocery_list)\n",
    "\n",
    "my_grocery_list.pop() # remove the last item in the grocery list\n",
    "print(my_grocery_list)\n",
    "\n",
    "my_grocery_list.insert(2, \"oranges\") # add \"oranges\" after the second item in the list\n",
    "print(my_grocery_list)\n",
    "\n",
    "my_grocery_list[1] = \"gala apples\"   # change the second item in my list to \"gala apples\"\n",
    "print(my_grocery_list)"
   ]
  },
  {
   "cell_type": "markdown",
   "metadata": {},
   "source": [
    "# Tuples\n",
    "Tuples works similar to list, except tuples are immutable. Refer to the following [link](https://www.tutorialspoint.com/python/python_tuples.htm) for all the available function. "
   ]
  },
  {
   "cell_type": "code",
   "execution_count": 6,
   "metadata": {},
   "outputs": [
    {
     "name": "stdout",
     "output_type": "stream",
     "text": [
      "('bananas', 'apples', 'tomatoes')\n",
      "('bananas', 'apples', 'tomatoes', 'cookies', 'potatoes')\n"
     ]
    }
   ],
   "source": [
    "my_grocery_list = (\"bananas\", \"apples\", \"tomatoes\")  # create a tuple of groceries\n",
    "print(my_grocery_list)\n",
    "\n",
    "# my_grocery_list.append(\"cookies\")   # this would throw an error\n",
    "# my_grocery_list.pop()               # this would throw an error\n",
    "# my_grocery_list[1] = \"gala apples\"  # this would throw an error\n",
    "\n",
    "# a way to modify tuple is to create another tuple and concatenate the tuple\n",
    "another_grocery_list = (\"cookies\", \"potatoes\")\n",
    "my_grocery_list = my_grocery_list + another_grocery_list\n",
    "print(my_grocery_list)"
   ]
  },
  {
   "cell_type": "markdown",
   "metadata": {},
   "source": [
    "# Loops\n",
    "## for loops\n",
    "**for** *var* in *sequence*:\n",
    "\n",
    "    code goes here"
   ]
  },
  {
   "cell_type": "code",
   "execution_count": 7,
   "metadata": {},
   "outputs": [
    {
     "name": "stdout",
     "output_type": "stream",
     "text": [
      "bananas\n",
      "apples\n",
      "tomatoes\n",
      "cookies\n",
      "potatoes\n"
     ]
    }
   ],
   "source": [
    "for i in my_grocery_list:\n",
    "    print(i)"
   ]
  },
  {
   "cell_type": "markdown",
   "metadata": {},
   "source": [
    "## while loops\n",
    "**while** stopping_condition:\n",
    "    \n",
    "    code goes goes\n",
    "    \n",
    "**Python does not support do-while loops**"
   ]
  },
  {
   "cell_type": "code",
   "execution_count": 8,
   "metadata": {},
   "outputs": [
    {
     "name": "stdout",
     "output_type": "stream",
     "text": [
      "potatoes\n",
      "cookies\n",
      "tomatoes\n",
      "apples\n",
      "bananas\n"
     ]
    }
   ],
   "source": [
    "i = len(my_grocery_list) - 1\n",
    "while i >= 0:\n",
    "    print(my_grocery_list[i])\n",
    "    i -= 1"
   ]
  },
  {
   "cell_type": "markdown",
   "metadata": {},
   "source": [
    "# Range\n",
    "Refer to the following [link](https://docs.python.org/3/library/functions.html#func-range) for further reference."
   ]
  },
  {
   "cell_type": "code",
   "execution_count": 9,
   "metadata": {},
   "outputs": [
    {
     "name": "stdout",
     "output_type": "stream",
     "text": [
      "i =  0\n",
      "i =  1\n",
      "i =  2\n",
      "i =  3\n",
      "i =  4\n",
      "i =  5\n",
      "i =  6\n",
      "i =  7\n",
      "i =  8\n",
      "i =  9\n",
      "j =  1\n",
      "j =  2\n",
      "j =  3\n",
      "j =  4\n",
      "j =  5\n",
      "j =  6\n",
      "j =  7\n",
      "j =  8\n",
      "j =  9\n",
      "k =  2\n",
      "k =  4\n",
      "k =  6\n",
      "k =  8\n",
      "k =  10\n",
      "k =  12\n",
      "k =  14\n",
      "k =  16\n",
      "k =  18\n"
     ]
    }
   ],
   "source": [
    "for i in range(10):           # provide an ending point\n",
    "    print(\"i = \", i)\n",
    "\n",
    "for j in range(1, 10):        # provide a starting and ending point\n",
    "    print(\"j = \", j)\n",
    "    \n",
    "for k in range(2, 20, 2):     # provide a starting point, ending point, and step\n",
    "    print(\"k = \", k)"
   ]
  },
  {
   "cell_type": "markdown",
   "metadata": {},
   "source": [
    "# Dictionary\n",
    "Dictionaries are comma separated key-value pairs. Refer to the following [link](https://www.w3schools.com/python/python_dictionaries.asp) for further reference."
   ]
  },
  {
   "cell_type": "code",
   "execution_count": 10,
   "metadata": {},
   "outputs": [
    {
     "name": "stdout",
     "output_type": "stream",
     "text": [
      "['Push-up', 'situps', 'squads']\n",
      "['Push-up', 'situps', 'squada', 'run 3 miles']\n",
      "{'Mon': ['Push-up', 'situps', 'squads'], 'Tue': 'Run 3 miles', 'Wed': 'Rest', 'Th': ['Push-up', 'situps', 'squads'], 'Fri': ['Push-up', 'situps', 'squada', 'run 3 miles'], 'Sat': 'Rest'}\n"
     ]
    }
   ],
   "source": [
    "# Creating Dictionary\n",
    "workout_dictionary = {\"Mon\": [\"Push-up\", \"situps\", \"squads\"],\n",
    "                      \"Tue\": \"Run 3 miles\",\n",
    "                      \"Wed\": \"Rest\",\n",
    "                      \"Th\": [\"Push-up\", \"situps\", \"squads\"],\n",
    "                      \"Fri\": \"Run 3 miles\"\n",
    "                     }\n",
    "print(workout_dictionary[\"Th\"])   # Accessing Items\n",
    "workout_dictionary[\"Fri\"] = [\"Push-up\", \"situps\", \"squada\", \"run 3 miles\"]    # Modifying Items\n",
    "print(workout_dictionary[\"Fri\"])\n",
    "workout_dictionary[\"Sat\"] = \"Rest\"   # Adding Items\n",
    "print(workout_dictionary)"
   ]
  },
  {
   "cell_type": "markdown",
   "metadata": {},
   "source": [
    "# Functions\n",
    "**def** *functionName*( _parameters_ ):\n",
    "\n",
    "    code goes here"
   ]
  },
  {
   "cell_type": "code",
   "execution_count": 11,
   "metadata": {},
   "outputs": [
    {
     "name": "stdout",
     "output_type": "stream",
     "text": [
      "Hello World\n",
      "5\n",
      "str =  ECE\n",
      "str2 =  196\n",
      "6\n",
      "(6, 7)\n"
     ]
    }
   ],
   "source": [
    "def printMe( str = \"Hello World\" ):   # function with default parameter\n",
    "    print( str )\n",
    "        \n",
    "\n",
    "def printMyAndMe( str1, str2 = \"Hello World\" ):  # function with and without default parameter\n",
    "    print(\"str = \", str1)\n",
    "    print(\"str2 = \", str2)\n",
    "    \n",
    "def addOne(x):  # function with return variable\n",
    "    return x + 1\n",
    "\n",
    "def addOneAndTwo(x):  # function with more than one return variable\n",
    "    return x + 1, x + 2\n",
    "\n",
    "printMe()\n",
    "printMe( 5 )\n",
    "\n",
    "printMyAndMe(\"ECE\", 196)\n",
    "\n",
    "print( addOne(5) )\n",
    "print( addOneAndTwo(5) )  # Notice the return type of this function"
   ]
  },
  {
   "cell_type": "markdown",
   "metadata": {},
   "source": [
    "# Classes\n",
    "For a detail explanation of classes in Python, refer to the offical [documentation](https://docs.python.org/3/tutorial/classes.html).\n",
    "\n",
    "**class** ClassName:\n",
    "    \n",
    "    <statement-1>\n",
    "    .\n",
    "    .\n",
    "    .\n",
    "    <statement-N>"
   ]
  },
  {
   "cell_type": "code",
   "execution_count": 12,
   "metadata": {},
   "outputs": [
    {
     "name": "stdout",
     "output_type": "stream",
     "text": [
      "<__main__.MyClass object at 0x10965a8d0>\n",
      "12345\n",
      "hello world\n"
     ]
    }
   ],
   "source": [
    "class MyClass:\n",
    "    \"\"\"A simple example class\"\"\"\n",
    "    i = 12345\n",
    "\n",
    "    def f(self):\n",
    "        return 'hello world'\n",
    "    \n",
    "x = MyClass()\n",
    "print( x )\n",
    "print( x.i )\n",
    "print( x.f() )"
   ]
  },
  {
   "cell_type": "markdown",
   "metadata": {},
   "source": [
    "# Modules\n",
    "For a detail explanation of modules in Python, refer to the official [documentation](https://docs.python.org/3/tutorial/modules.html)."
   ]
  },
  {
   "cell_type": "code",
   "execution_count": 13,
   "metadata": {},
   "outputs": [
    {
     "name": "stdout",
     "output_type": "stream",
     "text": [
      "[1 2 3 4 5]\n",
      "[2 3 4 5 6]\n",
      "[ 3  5  7  9 11]\n",
      "array = \n",
      " [[1 2 3]\n",
      " [4 5 6]]\n",
      "Printing one row at a time:\n",
      "[1 2 3]\n",
      "[4 5 6]\n",
      "Printing one elemtn at a time:\n",
      "1\n",
      "2\n",
      "3\n",
      "4\n",
      "5\n",
      "6\n"
     ]
    }
   ],
   "source": [
    "import numpy  # numpy module cheat sheet (not comprehensive): https://www.dataquest.io/blog/numpy-cheat-sheet/ \n",
    "\n",
    "x = numpy.array([1,2,3,4,5])\n",
    "print(x)\n",
    "y = numpy.array([2,3,4,5,6])\n",
    "print(y)\n",
    "print(x + y)\n",
    "\n",
    "import numpy as np  # assigning a alias to module\n",
    "\n",
    "array = np.array([[1,2,3], [4, 5, 6]])\n",
    "print(\"array = \\n\", array)\n",
    "\n",
    "print(\"Printing one row at a time:\")\n",
    "for rows in array:\n",
    "    print(rows)\n",
    "    \n",
    "print(\"Printing one elemtn at a time:\")\n",
    "for rows in array:\n",
    "    for col in rows:\n",
    "        print(col)"
   ]
  },
  {
   "cell_type": "code",
   "execution_count": null,
   "metadata": {},
   "outputs": [],
   "source": []
  }
 ],
 "metadata": {
  "kernelspec": {
   "display_name": "Python 3",
   "language": "python",
   "name": "python3"
  },
  "language_info": {
   "codemirror_mode": {
    "name": "ipython",
    "version": 3
   },
   "file_extension": ".py",
   "mimetype": "text/x-python",
   "name": "python",
   "nbconvert_exporter": "python",
   "pygments_lexer": "ipython3",
   "version": "3.6.5"
  }
 },
 "nbformat": 4,
 "nbformat_minor": 4
}
