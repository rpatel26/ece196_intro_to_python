{
 "cells": [
  {
   "cell_type": "markdown",
   "metadata": {},
   "source": [
    "# Variables\n",
    "* Variable name must start with a letter or the underscore character\n",
    "* Variable name cannot start with a number\n",
    "* Variable name can only contain: alphanumeric characters (A-z, 0-9) or underscores ( _ )\n",
    "* Variable names are case sensitive"
   ]
  },
  {
   "cell_type": "code",
   "execution_count": 7,
   "metadata": {},
   "outputs": [
    {
     "name": "stdout",
     "output_type": "stream",
     "text": [
      "10\n",
      "<class 'int'>\n",
      "10.6\n",
      "3.1415\n",
      "<class 'float'>\n",
      "hello world!\n",
      "<class 'str'>\n"
     ]
    }
   ],
   "source": [
    "x = 10\n",
    "print(x)\n",
    "print(type(x))\n",
    "y = 10.6\n",
    "print(y)\n",
    "x = 3.1415\n",
    "print(x)\n",
    "print(type(x))\n",
    "x = \"hello world!\"\n",
    "print(x)\n",
    "print(type(x))"
   ]
  },
  {
   "cell_type": "markdown",
   "metadata": {},
   "source": [
    "# Comments\n",
    "* Inline comment with the pound ( # ) key\n",
    "* Multiple-line comment with triple quotes ( ‘’’ or “”” )"
   ]
  },
  {
   "cell_type": "code",
   "execution_count": 10,
   "metadata": {},
   "outputs": [
    {
     "name": "stdout",
     "output_type": "stream",
     "text": [
      "10\n",
      "<class 'int'>\n",
      "10.6\n",
      "3.1415\n",
      "<class 'float'>\n",
      "hello world!\n",
      "<class 'str'>\n"
     ]
    }
   ],
   "source": [
    "x = 10   # this is an inline comment\n",
    "print(x)\n",
    "print(type(x))\n",
    "\n",
    "'''\n",
    "    THis is a multiple-line\n",
    "    comment\n",
    "'''\n",
    "y = 10.6\n",
    "print(y)\n",
    "\"\"\"\n",
    "    This is a multiple-line\n",
    "    comment\n",
    "\"\"\"\n",
    "x = 3.1415\n",
    "print(x)\n",
    "print(type(x))\n",
    "x = \"hello world!\"\n",
    "print(x)\n",
    "print(type(x))"
   ]
  },
  {
   "cell_type": "markdown",
   "metadata": {},
   "source": [
    "# Math\n",
    "* Three types of number in Python: **int**, **float**, and **complex**\n",
    "* 4 possible operations: addition ( **+** ), subtraction ( **-** ), multiplication ( ***** ), division ( **/** )\n"
   ]
  },
  {
   "cell_type": "code",
   "execution_count": 20,
   "metadata": {},
   "outputs": [
    {
     "name": "stdout",
     "output_type": "stream",
     "text": [
      "20.5\n",
      "<class 'float'>\n",
      "0\n",
      "(10-5j)\n",
      "<class 'complex'>\n",
      "10.0 -5.0\n",
      "(14-3j)\n",
      "(50+0j)\n"
     ]
    }
   ],
   "source": [
    "x = 10\n",
    "y = 10.5\n",
    "z = 10 + 10.5  ## dynamically assign z to be a float\n",
    "print(z)\n",
    "print(type(z))\n",
    "\n",
    "x = 5\n",
    "y = 16\n",
    "z = int(x / y)\n",
    "print(z)\n",
    "\n",
    "x = 10 - 5j\n",
    "y = 4 + 2j\n",
    "print(x)\n",
    "print(type(x))\n",
    "print(x.real, x.imag)\n",
    "print(x + y)\n",
    "print(x * y)"
   ]
  },
  {
   "cell_type": "markdown",
   "metadata": {},
   "source": [
    "# User Input\n",
    "To capture input from the user, use the **input** command."
   ]
  },
  {
   "cell_type": "code",
   "execution_count": 28,
   "metadata": {},
   "outputs": [
    {
     "name": "stdout",
     "output_type": "stream",
     "text": [
      "Enter something:ece196\n",
      "value =  ece196\n",
      "<class 'str'>\n",
      "Enter a number:ece196\n",
      "ValueError: Input must be a number\n"
     ]
    }
   ],
   "source": [
    "value = input(\"Enter something:\")\n",
    "print(\"value = \", value)\n",
    "print(type(value))\n",
    "\n",
    "try:\n",
    "    value = int(input(\"Enter a number:\"))\n",
    "    value = value + 1\n",
    "    print(\"value after addition: \", value)\n",
    "except ValueError:\n",
    "    print(\"ValueError: Input must be a number\")\n",
    "x = 5\n",
    "print(x)"
   ]
  },
  {
   "cell_type": "markdown",
   "metadata": {},
   "source": [
    "# Conditionals\n",
    "**if** condition 1:\n",
    "\n",
    "    code goes here\n",
    "    \n",
    "**elif** condition 2:\n",
    "\n",
    "    code goes here\n",
    "\n",
    "**else:**\n",
    "\n",
    "    code goes here"
   ]
  },
  {
   "cell_type": "code",
   "execution_count": 31,
   "metadata": {},
   "outputs": [
    {
     "name": "stdout",
     "output_type": "stream",
     "text": [
      "x is less than 10\n",
      "z = 15\n"
     ]
    }
   ],
   "source": [
    "x = 10\n",
    "y = 5.0 ## float\n",
    "z = 15.0\n",
    "\n",
    "if x <= 10:\n",
    "    print(\"x is less than 10\")\n",
    "    if z == 15:\n",
    "        print(\"z = 15\")\n",
    "elif x >= 10 and y == 5:\n",
    "    print(\"x is >= 10 and y equals 5\")\n",
    "else:\n",
    "    print(\"else statement\")"
   ]
  },
  {
   "cell_type": "markdown",
   "metadata": {},
   "source": [
    "# List\n",
    "Refer to the following [link](https://docs.python.org/3/tutorial/datastructures.html) for all the available function. "
   ]
  },
  {
   "cell_type": "code",
   "execution_count": 42,
   "metadata": {},
   "outputs": [
    {
     "name": "stdout",
     "output_type": "stream",
     "text": [
      "['potatoes', 'bananas', (2+4j), (2+5j)]\n",
      "<class 'complex'>\n",
      "['potatoes', 'bananas', (2+4j), (2+5j), 'apples']\n",
      "['potatoes', (2+4j), (2+5j), 'apples']\n",
      "['potatoes', (2+4j), 'bananas', (2+5j), 'apples']\n"
     ]
    }
   ],
   "source": [
    "my_grocery_list = [\"apples\", \"bananas\", 5.5, 2 + 5j] ## intialized using brackets\n",
    "my_grocery_list[0] = \"potatoes\"\n",
    "my_grocery_list[2] = 2 + 4j      ## modifying element\n",
    "print(my_grocery_list)\n",
    "print(type(my_grocery_list[2]))\n",
    "\n",
    "my_grocery_list.append(\"apples\")  ## appending element\n",
    "print(my_grocery_list)\n",
    "\n",
    "my_grocery_list.pop(1)    ## removing element\n",
    "print(my_grocery_list)\n",
    "\n",
    "my_grocery_list.insert(2, \"bananas\")  ## insert at specified location\n",
    "print(my_grocery_list)"
   ]
  },
  {
   "cell_type": "markdown",
   "metadata": {},
   "source": [
    "# Tuples\n",
    "Tuples works similar to list, except tuples are immutable. Refer to the following [link](https://www.tutorialspoint.com/python/python_tuples.htm) for all the available function. "
   ]
  },
  {
   "cell_type": "code",
   "execution_count": 50,
   "metadata": {},
   "outputs": [
    {
     "name": "stdout",
     "output_type": "stream",
     "text": [
      "bananas\n",
      "<class 'tuple'>\n",
      "['apples', 'bananas', 5.5, (2+5j)]\n"
     ]
    }
   ],
   "source": [
    "my_grocery_list = (\"apples\", \"bananas\", 5.5, 2 + 5j)  ## tuples are initialzed via paranthesis\n",
    "print(my_grocery_list[1])\n",
    "print(type(my_grocery_list))\n",
    "tuple_to_list = list(my_grocery_list)\n",
    "print(tuple_to_list)\n",
    "\n",
    "# my_grocery_list.append(\"potatoes\") ## throw an error\n",
    "# my_grocery_list[1] = \"potatoes\"  ## throw an error\n",
    "# my_grocery_list.pop()\n",
    "# my_grocery_list.insert(1, 3.3)"
   ]
  },
  {
   "cell_type": "markdown",
   "metadata": {},
   "source": [
    "# Loops\n",
    "## for loops\n",
    "**for** *var* in *sequence*:\n",
    "\n",
    "    code goes here"
   ]
  },
  {
   "cell_type": "code",
   "execution_count": 52,
   "metadata": {},
   "outputs": [
    {
     "name": "stdout",
     "output_type": "stream",
     "text": [
      "apples\n",
      "bananas\n",
      "5.5\n",
      "(2+5j)\n"
     ]
    }
   ],
   "source": [
    "my_grocery_list = [\"apples\", \"bananas\", 5.5, 2 + 5j]\n",
    "my_grocery_list = (\"apples\", \"bananas\", 5.5, 2 + 5j)  ## tuples are initialzed via paranthesis\n",
    "for items in my_grocery_list:\n",
    "    print(items)"
   ]
  },
  {
   "cell_type": "markdown",
   "metadata": {},
   "source": [
    "## while loops\n",
    "**while** stopping_condition:\n",
    "    \n",
    "    code goes goes\n",
    "    \n",
    "**Python does not support do-while loops**"
   ]
  },
  {
   "cell_type": "code",
   "execution_count": 53,
   "metadata": {},
   "outputs": [
    {
     "name": "stdout",
     "output_type": "stream",
     "text": [
      "I =  10\n",
      "I =  9\n",
      "I =  8\n",
      "I =  7\n",
      "I =  6\n",
      "I =  5\n",
      "I =  4\n",
      "I =  3\n",
      "I =  2\n",
      "I =  1\n",
      "I =  0\n"
     ]
    }
   ],
   "source": [
    "i = 10\n",
    "while i >= 0:\n",
    "    print(\"I = \", i)\n",
    "    i = i - 1"
   ]
  },
  {
   "cell_type": "markdown",
   "metadata": {},
   "source": [
    "# Range\n",
    "Refer to the following [link](https://docs.python.org/3/library/functions.html#func-range) for further reference."
   ]
  },
  {
   "cell_type": "code",
   "execution_count": 58,
   "metadata": {},
   "outputs": [
    {
     "name": "stdout",
     "output_type": "stream",
     "text": [
      "i =  0\n",
      "i =  1\n",
      "i =  2\n",
      "i =  3\n",
      "i =  4\n",
      "i =  5\n",
      "i =  6\n",
      "j =  1\n",
      "j =  2\n",
      "j =  3\n",
      "j =  4\n",
      "j =  5\n",
      "j =  6\n",
      "k =  1\n",
      "k =  4\n",
      "k =  7\n",
      "k =  10\n",
      "k =  13\n",
      "k =  16\n",
      "k =  19\n"
     ]
    }
   ],
   "source": [
    "for i in range(7):    # provide the stopping condition\n",
    "    print(\"i = \", i)\n",
    "    \n",
    "for j in range(1, 6 + 1):  # provide the starting and stopping condition\n",
    "    print(\"j = \", j)\n",
    "    \n",
    "for k in range(1, 21, 3):   # provide the starting, stopping, and step condition\n",
    "    print(\"k = \", k)"
   ]
  },
  {
   "cell_type": "markdown",
   "metadata": {},
   "source": [
    "# Dictionary\n",
    "Dictionaries are comma separated key-value pairs. Refer to the following [link](https://www.w3schools.com/python/python_dictionaries.asp) for further reference."
   ]
  },
  {
   "cell_type": "code",
   "execution_count": 64,
   "metadata": {},
   "outputs": [
    {
     "name": "stdout",
     "output_type": "stream",
     "text": [
      "['pushups', 'situps', 'squads']\n",
      "{'Mon': 'rest', 'Tue': '3 mile run', 'wed': 'rest', 'Fri': 3.141592}\n",
      "{'Mon': 'rest', 'Tue': '3 mile run', 'wed': 'rest', 'Fri': 3.141592, 'Th': '3 mile run'}\n"
     ]
    }
   ],
   "source": [
    "workout_dictionary = {\"Mon\": [\"pushups\", \"situps\", \"squads\"],\n",
    "                      \"Tue\": \"3 mile run\",\n",
    "                      \"wed\": \"rest\",\n",
    "                      \"Fri\": 3.141592\n",
    "                     }\n",
    "\n",
    "print(workout_dictionary[\"Mon\"])  ## accessing items\n",
    "\n",
    "workout_dictionary[\"Mon\"] = \"rest\" ## modify items\n",
    "print(workout_dictionary)\n",
    "\n",
    "workout_dictionary[\"Th\"] = \"3 mile run\"  ## adding items\n",
    "print(workout_dictionary)"
   ]
  },
  {
   "cell_type": "markdown",
   "metadata": {},
   "source": [
    "# Functions\n",
    "**def** *functionName*( _parameters_ ):\n",
    "\n",
    "    code goes here"
   ]
  },
  {
   "cell_type": "code",
   "execution_count": 72,
   "metadata": {},
   "outputs": [
    {
     "name": "stdout",
     "output_type": "stream",
     "text": [
      "5\n",
      "ece196\n",
      "ECE196\n",
      "3.1415\n",
      "6.141500000000001\n",
      "6\n",
      "9.14\n"
     ]
    }
   ],
   "source": [
    "def printMe(value):  ## function with parameter\n",
    "    print(value)\n",
    "    \n",
    "def anotherFunction(value = \"ECE196\"):  ## fuction w/ default argument\n",
    "    print(value)\n",
    "    \n",
    "def addMeAndMe(x, y = 3.1415):  ## function with and w/0 default argument\n",
    "    print(x + y)\n",
    "    \n",
    "def testFunction(x, y = 3.14, z = 5.6):  ## function w/ multiple default argument\n",
    "    print(x+y+z)\n",
    "    \n",
    "printMe(5)\n",
    "printMe(\"ece196\")\n",
    "\n",
    "anotherFunction()\n",
    "anotherFunction(3.1415)\n",
    "\n",
    "addMeAndMe(3)\n",
    "addMeAndMe(4, 2)\n",
    "\n",
    "testFunction(4, z = 2)"
   ]
  },
  {
   "cell_type": "markdown",
   "metadata": {},
   "source": [
    "# Classes\n",
    "For a detail explanation of classes in Python, refer to the offical [documentation](https://docs.python.org/3/tutorial/classes.html).\n",
    "\n",
    "**class** ClassName:\n",
    "    \n",
    "    <statement-1>\n",
    "    .\n",
    "    .\n",
    "    .\n",
    "    <statement-N>"
   ]
  },
  {
   "cell_type": "code",
   "execution_count": 82,
   "metadata": {},
   "outputs": [
    {
     "name": "stdout",
     "output_type": "stream",
     "text": [
      "This is the constructor for the class....\n",
      "ece196\n",
      "myVariable =  4.5\n",
      "ECE196\n"
     ]
    }
   ],
   "source": [
    "class MyClass(object):\n",
    "    \n",
    "    def __init__(self, x = 4.5):\n",
    "        self.myVariable = x\n",
    "        print(\"This is the constructor for the class....\")\n",
    "    \n",
    "    def printMe(value):  ## function with parameter\n",
    "        print(value)\n",
    "    \n",
    "    def __anotherFunction__(self, value = \"ECE196\"):  ## fuction w/ default argument\n",
    "        print(\"myVariable = \", self.myVariable)\n",
    "        print(value)\n",
    "\n",
    "    def addMeAndMe(self, x, y = 3.1415):  ## function with and w/0 default argument\n",
    "        print(x + y)\n",
    "\n",
    "    def testFunction(self, x, y = 3.14, z = 5.6):  ## function w/ multiple default argument\n",
    "        print(x+y+z)\n",
    "        \n",
    "x = MyClass()\n",
    "MyClass.printMe(\"ece196\")\n",
    "x.__anotherFunction__()"
   ]
  },
  {
   "cell_type": "markdown",
   "metadata": {},
   "source": [
    "# Modules\n",
    "For a detail explanation of modules in Python, refer to the official [documentation](https://docs.python.org/3/tutorial/modules.html)."
   ]
  },
  {
   "cell_type": "code",
   "execution_count": 99,
   "metadata": {},
   "outputs": [
    {
     "name": "stdout",
     "output_type": "stream",
     "text": [
      "[1 2 3 4 5]\n",
      "[ 6  7  8  9 10]\n",
      "[ 6 14 24 36 50]\n",
      "z = \n",
      "[[1 2]\n",
      " [4 5]]\n",
      "w = \n",
      "[[ 1 -1]\n",
      " [ 1  1]]\n",
      "row =  [1 2]\n",
      "c =  1\n",
      "c =  2\n",
      "row =  [4 5]\n",
      "c =  4\n",
      "c =  5\n",
      "[[3 1]\n",
      " [9 1]]\n",
      "z_transpose = \n",
      "[[1 4]\n",
      " [2 5]]\n"
     ]
    }
   ],
   "source": [
    "import numpy as np   ## #include <numpy.h>, numpy with alias np\n",
    "\n",
    "x = np.array([1,2,3,4,5])\n",
    "y = np.array([6,7,8,9,10])\n",
    "\n",
    "print(x)\n",
    "print(y)\n",
    "print(x * y)\n",
    "\n",
    "z = np.array([[1,2], [4,5]])\n",
    "w = np.array([[1, -1], [1,1]])\n",
    "print(\"z = \")\n",
    "print(z)\n",
    "\n",
    "print(\"w = \")\n",
    "print(w)\n",
    "\n",
    "for row in z:\n",
    "    print(\"row = \", row)\n",
    "    for c in row:\n",
    "        print(\"c = \", c)\n",
    "        \n",
    "t = np.dot(z, w)\n",
    "print(t)\n",
    "\n",
    "z_transpose = z.T\n",
    "print(\"z_transpose = \")\n",
    "print(z_transpose)"
   ]
  },
  {
   "cell_type": "code",
   "execution_count": null,
   "metadata": {},
   "outputs": [],
   "source": []
  }
 ],
 "metadata": {
  "kernelspec": {
   "display_name": "Python 3",
   "language": "python",
   "name": "python3"
  },
  "language_info": {
   "codemirror_mode": {
    "name": "ipython",
    "version": 3
   },
   "file_extension": ".py",
   "mimetype": "text/x-python",
   "name": "python",
   "nbconvert_exporter": "python",
   "pygments_lexer": "ipython3",
   "version": "3.6.5"
  }
 },
 "nbformat": 4,
 "nbformat_minor": 4
}
